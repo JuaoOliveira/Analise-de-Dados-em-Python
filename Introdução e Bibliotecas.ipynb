{
 "cells": [
  {
   "cell_type": "markdown",
   "metadata": {},
   "source": [
    "# Análise de Dados em Python\n",
    "\n",
    "Muito bem vindo a esse curso de análise de dados em python, é um grande prazer poder ajudar você nessa caminhada tão emocionante e divertida! Mas vamos ao que interessa!"
   ]
  },
  {
   "cell_type": "markdown",
   "metadata": {},
   "source": [
    "## Aprendendo a usar o Python\n",
    "\n",
    "Vamos começar entendendo os conceitos básicos de Python!"
   ]
  },
  {
   "cell_type": "markdown",
   "metadata": {},
   "source": [
    "### 1. variáveis"
   ]
  },
  {
   "cell_type": "code",
   "execution_count": 16,
   "metadata": {},
   "outputs": [
    {
     "name": "stdout",
     "output_type": "stream",
     "text": [
      "Python é Legal\n",
      "10\n"
     ]
    }
   ],
   "source": [
    "# As variáveis não são definidas na chamada\n",
    "\n",
    "a = \"Python é Legal\"\n",
    "b = 10\n",
    "\n",
    "print(a)\n",
    "print(b)"
   ]
  },
  {
   "cell_type": "code",
   "execution_count": 17,
   "metadata": {},
   "outputs": [
    {
     "name": "stdout",
     "output_type": "stream",
     "text": [
      "<type 'str'>\n",
      "<type 'int'>\n"
     ]
    }
   ],
   "source": [
    "# Seus tipos primitivos são, no entanto, diferentes\n",
    "print(type(a))\n",
    "print(type(b))"
   ]
  },
  {
   "cell_type": "code",
   "execution_count": 18,
   "metadata": {},
   "outputs": [
    {
     "data": {
      "text/plain": [
       "int"
      ]
     },
     "execution_count": 18,
     "metadata": {},
     "output_type": "execute_result"
    }
   ],
   "source": [
    "# Mas suas definições podem ser alteradas a qualquer momento\n",
    "a = b\n",
    "type(a)"
   ]
  },
  {
   "cell_type": "code",
   "execution_count": 19,
   "metadata": {},
   "outputs": [
    {
     "name": "stdout",
     "output_type": "stream",
     "text": [
      "<type 'str'>\n",
      "Que coisa não...\n",
      "<type 'int'>\n",
      "10\n",
      "<type 'float'>\n",
      "2.0\n",
      "<type 'list'>\n",
      "[10, 20, 'Como assim?', [10, 23]]\n",
      "<type 'tuple'>\n",
      "(10, 20, 40)\n",
      "<type 'dict'>\n",
      "{'chave': 'valor', '1': 1, 'tupla': (10, 20, 40), 'lista': [10, 20, 'Como assim?', [10, 23]]}\n"
     ]
    }
   ],
   "source": [
    "# Os tipos mais comuns são\n",
    "\n",
    "# String\n",
    "a = \"Que coisa não...\"\n",
    "print(type(a))\n",
    "print(a)\n",
    "\n",
    "# Numero (int, float)\n",
    "b = 10\n",
    "c = 2.0\n",
    "print(type(b))\n",
    "print(b)\n",
    "print(type(c))\n",
    "print(c)\n",
    "\n",
    "# Listas\n",
    "d = [10, 20, \"Como assim?\", [10, 23]]\n",
    "print(type(d))\n",
    "print(d)\n",
    "\n",
    "# Tuplas\n",
    "e = (10, 20, 40)\n",
    "print(type(e))\n",
    "print(e)\n",
    "\n",
    "# Dicionários (Chave, Valor) # Os dicionários são estruturas semelhantes ao JSON\n",
    "f = {'chave': 'valor',\n",
    "     '1': 1,\n",
    "     'lista': d,\n",
    "     'tupla': e}\n",
    "print(type(f))\n",
    "print(f)"
   ]
  },
  {
   "cell_type": "code",
   "execution_count": 20,
   "metadata": {},
   "outputs": [
    {
     "name": "stdout",
     "output_type": "stream",
     "text": [
      "Como assim?\n",
      "20\n",
      "[10, 20, 'Como assim?', [10, 23]]\n"
     ]
    }
   ],
   "source": [
    "# Para acessar os elementos de uma lista, tupla e dicionário...\n",
    "print(d[2])\n",
    "print(e[1])\n",
    "print(f['lista'])"
   ]
  },
  {
   "cell_type": "markdown",
   "metadata": {},
   "source": [
    "### 2. Funções"
   ]
  },
  {
   "cell_type": "code",
   "execution_count": 21,
   "metadata": {},
   "outputs": [
    {
     "data": {
      "text/plain": [
       "5"
      ]
     },
     "execution_count": 21,
     "metadata": {},
     "output_type": "execute_result"
    }
   ],
   "source": [
    "# as funções em Python são descritas da seguinte maneira...\n",
    "\n",
    "def funcao_soma(param1, param2):\n",
    "    return param1+param2\n",
    "\n",
    "funcao_soma(2,3)"
   ]
  },
  {
   "cell_type": "code",
   "execution_count": 22,
   "metadata": {},
   "outputs": [
    {
     "data": {
      "text/plain": [
       "10"
      ]
     },
     "execution_count": 22,
     "metadata": {},
     "output_type": "execute_result"
    }
   ],
   "source": [
    "def funcao_multi(param1, param2, funcao_soma):\n",
    "    return param1 * funcao_soma(param1, param2)\n",
    "\n",
    "funcao_multi(2, 3, funcao_soma)"
   ]
  },
  {
   "cell_type": "code",
   "execution_count": 23,
   "metadata": {},
   "outputs": [
    {
     "data": {
      "text/plain": [
       "False"
      ]
     },
     "execution_count": 23,
     "metadata": {},
     "output_type": "execute_result"
    }
   ],
   "source": [
    "def funcao_verdade(fazer=False):\n",
    "    return fazer\n",
    "\n",
    "funcao_verdade()"
   ]
  },
  {
   "cell_type": "code",
   "execution_count": 24,
   "metadata": {},
   "outputs": [
    {
     "data": {
      "text/plain": [
       "-5"
      ]
     },
     "execution_count": 24,
     "metadata": {},
     "output_type": "execute_result"
    }
   ],
   "source": [
    "def funcao_usar(z, w, y=0):\n",
    "    return z+y-w\n",
    "\n",
    "funcao_usar(w=10, z=5)"
   ]
  },
  {
   "cell_type": "markdown",
   "metadata": {},
   "source": [
    "### 3. Estruturas Condicionais"
   ]
  },
  {
   "cell_type": "code",
   "execution_count": 25,
   "metadata": {},
   "outputs": [
    {
     "name": "stdout",
     "output_type": "stream",
     "text": [
      "True\n"
     ]
    }
   ],
   "source": [
    "# Para esse tipo de estrutura temos 3 palavras reservadas... IF/ELIF/FOR\n",
    "\n",
    "# Se for verdade mostra verdade\n",
    "if True:\n",
    "    print(\"True\")"
   ]
  },
  {
   "cell_type": "code",
   "execution_count": 26,
   "metadata": {},
   "outputs": [],
   "source": [
    "# Por que não apareceu?\n",
    "if False:\n",
    "    print(\"False\")"
   ]
  },
  {
   "cell_type": "code",
   "execution_count": 27,
   "metadata": {},
   "outputs": [
    {
     "name": "stdout",
     "output_type": "stream",
     "text": [
      "10\n"
     ]
    }
   ],
   "source": [
    "# Qualquer numero diferente de zero é verdadeiro\n",
    "if 10:\n",
    "    print(10)"
   ]
  },
  {
   "cell_type": "code",
   "execution_count": 28,
   "metadata": {},
   "outputs": [],
   "source": [
    "# 0 é falso\n",
    "if 0:\n",
    "    print(0)"
   ]
  },
  {
   "cell_type": "code",
   "execution_count": 29,
   "metadata": {},
   "outputs": [
    {
     "name": "stdout",
     "output_type": "stream",
     "text": [
      "ELIF\n"
     ]
    }
   ],
   "source": [
    "if False:\n",
    "    print('IF')\n",
    "elif True:\n",
    "    print('ELIF')"
   ]
  },
  {
   "cell_type": "code",
   "execution_count": 30,
   "metadata": {},
   "outputs": [
    {
     "name": "stdout",
     "output_type": "stream",
     "text": [
      "ELSE\n"
     ]
    }
   ],
   "source": [
    "if False:\n",
    "    print('IF')\n",
    "elif False:\n",
    "    print('ELIF')\n",
    "else:\n",
    "    print('ELSE')"
   ]
  },
  {
   "cell_type": "code",
   "execution_count": 31,
   "metadata": {},
   "outputs": [
    {
     "name": "stdout",
     "output_type": "stream",
     "text": [
      "a as\n",
      "ss \n"
     ]
    }
   ],
   "source": [
    "print(\"a \" +\n",
    "     \"as\\nss \")"
   ]
  },
  {
   "cell_type": "markdown",
   "metadata": {},
   "source": [
    "### 4. Estruturas de Repetição"
   ]
  },
  {
   "cell_type": "code",
   "execution_count": 32,
   "metadata": {},
   "outputs": [
    {
     "name": "stdout",
     "output_type": "stream",
     "text": [
      "1\n",
      "2\n",
      "3\n",
      "4\n",
      "5\n",
      "6\n",
      "7\n",
      "8\n",
      "9\n"
     ]
    }
   ],
   "source": [
    "# Se usa a palavra reservada FOR, junto com um interável e um intervalo\n",
    "\n",
    "for i in range(1,10):\n",
    "    print(i)"
   ]
  },
  {
   "cell_type": "code",
   "execution_count": 33,
   "metadata": {},
   "outputs": [
    {
     "name": "stdout",
     "output_type": "stream",
     "text": [
      "[1, 2, 3, 4]\n",
      "1\n",
      "2\n",
      "3\n",
      "4\n"
     ]
    }
   ],
   "source": [
    "# Lista também é um interável\n",
    "\n",
    "a = [i for i in range(1,5)]\n",
    "print(a)\n",
    "\n",
    "for i in a:\n",
    "    print(i)"
   ]
  },
  {
   "cell_type": "code",
   "execution_count": 34,
   "metadata": {},
   "outputs": [
    {
     "data": {
      "text/plain": [
       "[10, 11, 12, 13, 14, 15, 16, 17, 18, 19]"
      ]
     },
     "execution_count": 34,
     "metadata": {},
     "output_type": "execute_result"
    }
   ],
   "source": [
    "# List comprehension encapsula o for dentro de uma lista\n",
    "# Lista recebe i para todo i no intervalo (10,20)\n",
    "lista = [i for i in range(10,20)]\n",
    "lista"
   ]
  },
  {
   "cell_type": "code",
   "execution_count": 35,
   "metadata": {},
   "outputs": [
    {
     "data": {
      "text/plain": [
       "[10, 12, 14, 16, 18]"
      ]
     },
     "execution_count": 35,
     "metadata": {},
     "output_type": "execute_result"
    }
   ],
   "source": [
    "# podemos conectar if e for\n",
    "lista2 = [i for i in lista if i % 2 == 0]\n",
    "lista2"
   ]
  },
  {
   "cell_type": "code",
   "execution_count": 36,
   "metadata": {},
   "outputs": [
    {
     "data": {
      "text/plain": [
       "[10, 12, 14, 16, 18]"
      ]
     },
     "execution_count": 36,
     "metadata": {},
     "output_type": "execute_result"
    }
   ],
   "source": [
    "# Podemos concatenar For e If para alcançar determinados propósitos\n",
    "lista3 = []\n",
    "for i in lista:\n",
    "    if i % 2 == 0:\n",
    "        lista3.append(i)\n",
    "lista3"
   ]
  },
  {
   "cell_type": "code",
   "execution_count": 46,
   "metadata": {},
   "outputs": [
    {
     "name": "stdout",
     "output_type": "stream",
     "text": [
      "oi 0\n",
      "oi 1\n",
      "oi 2\n",
      "oi 3\n",
      "oi 4\n",
      "oi 5\n",
      "oi 6\n",
      "oi 7\n",
      "oi 8\n",
      "oi 9\n"
     ]
    }
   ],
   "source": [
    "i=0\n",
    "while i<10:\n",
    "    print('oi ' + str(i))\n",
    "    i += 1"
   ]
  },
  {
   "cell_type": "markdown",
   "metadata": {},
   "source": [
    "### 5. Aplicação"
   ]
  },
  {
   "cell_type": "code",
   "execution_count": 37,
   "metadata": {},
   "outputs": [],
   "source": [
    "# Vamos importar o sqrt para fazer calculos de numeros imaginários!\n",
    "from cmath import sqrt"
   ]
  },
  {
   "cell_type": "code",
   "execution_count": 38,
   "metadata": {},
   "outputs": [],
   "source": [
    "# Calculando eqções do 1 e 2 grau\n",
    "\n",
    "def resolvedor(coeficientes, tipo='primeiro', complexo=True):\n",
    "    if tipo == 'primeiro':\n",
    "        return coeficientes['b']/coeficientes['a']\n",
    "    elif tipo == 'segundo':\n",
    "        if coeficientes['a'] == 0:\n",
    "            return 'Não é uma equação do 2 grau!'\n",
    "        else:\n",
    "            delta = pow(coeficientes['b'],2) + (4*coeficientes['a']*coeficientes['c'])\n",
    "            if delta < 0 and not complexo:\n",
    "                return 'Não possui raizes reais'\n",
    "            else:\n",
    "                x = []\n",
    "                for i in [1, -1]:\n",
    "                    x.append(((-coeficientes['b']) + i*(sqrt(delta)))/(2*coeficientes['a']))\n",
    "                return x\n",
    "    else:\n",
    "        return 'Não temos suporte a esse tipo de função!'          \n",
    "    "
   ]
  },
  {
   "cell_type": "code",
   "execution_count": 39,
   "metadata": {},
   "outputs": [
    {
     "data": {
      "text/plain": [
       "[(-0.5-0.3872983346207417j), (-0.5+0.3872983346207417j)]"
      ]
     },
     "execution_count": 39,
     "metadata": {},
     "output_type": "execute_result"
    }
   ],
   "source": [
    "resolvedor(tipo='segundo', coeficientes={'a':-5, 'b':-5, 'c':2}, complexo=True)"
   ]
  },
  {
   "cell_type": "markdown",
   "metadata": {},
   "source": [
    "### 6. Falando um pouco mais sobre Dicionário"
   ]
  },
  {
   "cell_type": "code",
   "execution_count": 1,
   "metadata": {},
   "outputs": [
    {
     "name": "stdout",
     "output_type": "stream",
     "text": [
      "('Id:', 1)\n",
      "('Nome:', 'Juliano')\n",
      "('Usu\\xc3\\xa1rio:', 'jssilva')\n",
      "('Senha', '123456')\n",
      "('Novo nome', 'Silva')\n"
     ]
    }
   ],
   "source": [
    "#cria uma variável com um dicionário\n",
    "usuario = {'id': 1, 'nome': 'Juliano', 'username': 'jssilva'}\n",
    "\n",
    "print('Id:', usuario['id'])\n",
    "print('Nome:', usuario['nome'])\n",
    "print('Usuário:', usuario['username'])\n",
    "\n",
    "usuario['Senha'] = '123456'\n",
    "print('Senha', usuario['Senha'])\n",
    "\n",
    "usuario['Nome'] = 'Silva'\n",
    "print(\"Novo nome\",usuario['Nome'])"
   ]
  },
  {
   "cell_type": "code",
   "execution_count": 2,
   "metadata": {},
   "outputs": [
    {
     "data": {
      "text/plain": [
       "2"
      ]
     },
     "execution_count": 2,
     "metadata": {},
     "output_type": "execute_result"
    }
   ],
   "source": [
    "pontoA = (0,)\n",
    "pontoA = (1, 2)\n",
    "#pontoB = (2, 0, 1)\n",
    "\n",
    "#print( \"Ponto1({}, {})\".format( pontoA[0], pontoA[1]) )\n",
    "#print( \"Ponto2({}, {})\".format( pontoB[0], pontoB[1]) )\n",
    "\n",
    "pontoA[1]"
   ]
  },
  {
   "cell_type": "markdown",
   "metadata": {},
   "source": [
    "### 7. Outros pontos Básicos"
   ]
  },
  {
   "cell_type": "code",
   "execution_count": 3,
   "metadata": {},
   "outputs": [
    {
     "name": "stdout",
     "output_type": "stream",
     "text": [
      "(3+2j)\n"
     ]
    }
   ],
   "source": [
    "numero_a = 1+1j\n",
    "\n",
    "numero_b = 2+1j\n",
    "\n",
    "numero_c = numero_a + numero_b\n",
    "\n",
    "print(numero_c)"
   ]
  },
  {
   "cell_type": "code",
   "execution_count": 4,
   "metadata": {},
   "outputs": [
    {
     "name": "stdout",
     "output_type": "stream",
     "text": [
      "1\n"
     ]
    }
   ],
   "source": [
    "delta = -16\n",
    "raiz = delta**(1/2)\n",
    "print(raiz)"
   ]
  },
  {
   "cell_type": "code",
   "execution_count": 47,
   "metadata": {},
   "outputs": [
    {
     "name": "stdout",
     "output_type": "stream",
     "text": [
      "1\n"
     ]
    }
   ],
   "source": [
    "def modulo_do_vetor(vetor):\n",
    "    mod = ( (vetor[0]**2 ) + ( vetor[1])**2 ) ** (1/2)\n",
    "    return mod\n",
    "\n",
    "\n",
    "vetor = (5, 0)\n",
    "print(modulo_do_vetor(vetor))"
   ]
  },
  {
   "cell_type": "code",
   "execution_count": 48,
   "metadata": {},
   "outputs": [
    {
     "name": "stdout",
     "output_type": "stream",
     "text": [
      "1\n"
     ]
    }
   ],
   "source": [
    "def calcula_hipotenusa(catetos):\n",
    "    hipo = ( (catetos['a'] ** 2) + (catetos['b'] ** 2) ) ** (1/2)\n",
    "    return hipo\n",
    "\n",
    "\n",
    "catetos = {'a': 3, 'b': 4}\n",
    "\n",
    "print(calcula_hipotenusa(catetos))"
   ]
  },
  {
   "cell_type": "code",
   "execution_count": 49,
   "metadata": {},
   "outputs": [
    {
     "name": "stdout",
     "output_type": "stream",
     "text": [
      "1\n",
      "1\n"
     ]
    }
   ],
   "source": [
    "def raiz(radicando, indice=2):\n",
    "    resposta = radicando ** (1/indice)\n",
    "    return resposta\n",
    "\n",
    "print(raiz(16))\n",
    "print(raiz(27,3))"
   ]
  },
  {
   "cell_type": "markdown",
   "metadata": {},
   "source": [
    "### 8. Imports"
   ]
  },
  {
   "cell_type": "code",
   "execution_count": 8,
   "metadata": {},
   "outputs": [
    {
     "name": "stdout",
     "output_type": "stream",
     "text": [
      "3.0\n"
     ]
    }
   ],
   "source": [
    "import math\n",
    "\n",
    "print(math.sqrt(9))"
   ]
  },
  {
   "cell_type": "code",
   "execution_count": 9,
   "metadata": {},
   "outputs": [
    {
     "name": "stdout",
     "output_type": "stream",
     "text": [
      "3.0\n"
     ]
    }
   ],
   "source": [
    "from math import sqrt\n",
    "\n",
    "print(sqrt(9))"
   ]
  },
  {
   "cell_type": "code",
   "execution_count": 10,
   "metadata": {},
   "outputs": [
    {
     "name": "stdout",
     "output_type": "stream",
     "text": [
      "3.0\n"
     ]
    }
   ],
   "source": [
    "from math import sqrt as raiz\n",
    "\n",
    "print(raiz(9))"
   ]
  },
  {
   "cell_type": "code",
   "execution_count": 11,
   "metadata": {},
   "outputs": [
    {
     "data": {
      "text/plain": [
       "[2.718281828459045,\n",
       " 7.38905609893065,\n",
       " 20.085536923187668,\n",
       " 54.598150033144236,\n",
       " 148.4131591025766,\n",
       " 403.4287934927351,\n",
       " 1096.6331584284585,\n",
       " 2980.9579870417283,\n",
       " 8103.083927575384,\n",
       " 22026.465794806718]"
      ]
     },
     "execution_count": 11,
     "metadata": {},
     "output_type": "execute_result"
    }
   ],
   "source": [
    "import math\n",
    "\n",
    "lista = [1,2,3,4,5,6,7,8,9,10]\n",
    "\n",
    "\n",
    "quadrados = map(math.exp, lista)\n",
    "\n",
    "list(quadrados)"
   ]
  },
  {
   "cell_type": "markdown",
   "metadata": {},
   "source": [
    "### 9. Funções especiais"
   ]
  },
  {
   "cell_type": "code",
   "execution_count": 12,
   "metadata": {},
   "outputs": [
    {
     "data": {
      "text/plain": [
       "7"
      ]
     },
     "execution_count": 12,
     "metadata": {},
     "output_type": "execute_result"
    }
   ],
   "source": [
    "mais5 = lambda x: x + 5\n",
    "\n",
    "mais5(2)"
   ]
  },
  {
   "cell_type": "code",
   "execution_count": 13,
   "metadata": {},
   "outputs": [
    {
     "data": {
      "text/plain": [
       "[8, 9, 10]"
      ]
     },
     "execution_count": 13,
     "metadata": {},
     "output_type": "execute_result"
    }
   ],
   "source": [
    "lista = [3,4,5]\n",
    "\n",
    "lista = map(lambda x: x+5, lista)\n",
    "\n",
    "list(lista)"
   ]
  },
  {
   "cell_type": "code",
   "execution_count": 14,
   "metadata": {},
   "outputs": [
    {
     "data": {
      "text/plain": [
       "[2, 4, 6, 8, 10]"
      ]
     },
     "execution_count": 14,
     "metadata": {},
     "output_type": "execute_result"
    }
   ],
   "source": [
    "lista = [1,2,3,4,5,6,7,8,9,10]\n",
    "\n",
    "pares = filter(lambda x: x%2 == 0, lista)\n",
    "\n",
    "list(pares)"
   ]
  },
  {
   "cell_type": "code",
   "execution_count": 15,
   "metadata": {},
   "outputs": [
    {
     "data": {
      "text/plain": [
       "[4, 16, 36, 64]"
      ]
     },
     "execution_count": 15,
     "metadata": {},
     "output_type": "execute_result"
    }
   ],
   "source": [
    "lista = [1,2,3,4,5,6,7,8,9]\n",
    "\n",
    "lista = filter(lambda x:x%2==0, lista)\n",
    "lista = map(lambda w: w**2, lista)\n",
    "\n",
    "\n",
    "list(lista)"
   ]
  }
 ],
 "metadata": {
  "kernelspec": {
   "display_name": "Python 2",
   "language": "python",
   "name": "python2"
  },
  "language_info": {
   "codemirror_mode": {
    "name": "ipython",
    "version": 2
   },
   "file_extension": ".py",
   "mimetype": "text/x-python",
   "name": "python",
   "nbconvert_exporter": "python",
   "pygments_lexer": "ipython2",
   "version": "2.7.16"
  }
 },
 "nbformat": 4,
 "nbformat_minor": 2
}
