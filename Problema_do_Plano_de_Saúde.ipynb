{
  "nbformat": 4,
  "nbformat_minor": 0,
  "metadata": {
    "colab": {
      "name": "Aula 1 - Problema do Plano de Saúde.ipynb",
      "provenance": [],
      "include_colab_link": true
    },
    "language_info": {
      "codemirror_mode": {
        "name": "ipython",
        "version": 3
      },
      "file_extension": ".py",
      "mimetype": "text/x-python",
      "name": "python",
      "nbconvert_exporter": "python",
      "pygments_lexer": "ipython3",
      "version": "3.7.2"
    },
    "kernelspec": {
      "display_name": "Python 3",
      "language": "python",
      "name": "python3"
    }
  },
  "cells": [
    {
      "cell_type": "markdown",
      "metadata": {
        "id": "view-in-github",
        "colab_type": "text"
      },
      "source": [
        "<a href=\"https://colab.research.google.com/github/igormcsouza/analise-de-dados-em-python/blob/master/Problema_do_Plano_de_Sa%C3%BAde.ipynb\" target=\"_parent\"><img src=\"https://colab.research.google.com/assets/colab-badge.svg\" alt=\"Open In Colab\"/></a>"
      ]
    },
    {
      "cell_type": "markdown",
      "metadata": {
        "id": "FIDrITEb48CW",
        "colab_type": "text"
      },
      "source": [
        "# Usando Tensor Flow para resolver problemas de regressão linear\n",
        "\n",
        "Regressão linear é um problema de encontrar uma reta que melhor se adeque aos meus dados, a função que caracteriza a regressão linear é dada como a seguir: y = a0 + a1*x\n"
      ]
    },
    {
      "cell_type": "markdown",
      "metadata": {
        "id": "m_pUWPp348Ch",
        "colab_type": "text"
      },
      "source": [
        "Para resolvermos esse problema, vamos dividir nossos esforços em 2 grupos, preparação dos dados e modelagem do problema.\n",
        "\n",
        "### 1) Pré-processamento dos dados\n",
        "\n",
        "Para tal, vamos usar numpy array e a biblioteca scikit-learn.\n",
        "\n",
        "Vamos usar a padronização simples dos dados para levar eles para valores mais pequenos, para que facilite o processamento"
      ]
    },
    {
      "cell_type": "code",
      "metadata": {
        "colab_type": "code",
        "id": "TTZDyt47sRyv",
        "outputId": "db9d24b4-e87c-4b82-f2bf-48c46c6ab83e",
        "colab": {
          "base_uri": "https://localhost:8080/",
          "height": 275
        }
      },
      "source": [
        "import numpy as np\n",
        "import matplotlib.pyplot as plt\n",
        "\n",
        "# O problema de regressão abaixo visa prever o custo do plano de saúde\n",
        "# dado a idade do cliente. Ou seja, X[i] representa a idade da pessoa i\n",
        "# e o y[i] representa o quanto essa pessoa i paga no plano de saúde.\n",
        "\n",
        "#Vamos preparar os dados aplicando a padronização\n",
        "\n",
        "#A variável X será a idade do cliente\n",
        "X = np.array([[18], [23], [28], [33], [38], [43], [48], [53], [58], [63]])\n",
        "#A variável y é o custo para as idades acima\n",
        "y = np.array([[871], [1132], [1042], [1356], [1488], [1638], [1569], [1754], [1866], [1900]])\n",
        "\n",
        "# No TensorFlow é importante fazer o pré-processamento, isso ajuda na hora dos calculos.\n",
        "\n",
        "from sklearn.preprocessing import StandardScaler\n",
        "scaler_x = StandardScaler() # Vamos guardar as informações de escala para retornar os dados depois.\n",
        "X = scaler_x.fit_transform(X)\n",
        "X"
      ],
      "execution_count": 0,
      "outputs": [
        {
          "output_type": "stream",
          "text": [
            "/usr/local/lib/python3.6/dist-packages/sklearn/utils/validation.py:595: DataConversionWarning: Data with input dtype int64 was converted to float64 by StandardScaler.\n",
            "  warnings.warn(msg, DataConversionWarning)\n",
            "/usr/local/lib/python3.6/dist-packages/sklearn/utils/validation.py:595: DataConversionWarning: Data with input dtype int64 was converted to float64 by StandardScaler.\n",
            "  warnings.warn(msg, DataConversionWarning)\n"
          ],
          "name": "stderr"
        },
        {
          "output_type": "execute_result",
          "data": {
            "text/plain": [
              "array([[-1.5666989 ],\n",
              "       [-1.21854359],\n",
              "       [-0.87038828],\n",
              "       [-0.52223297],\n",
              "       [-0.17407766],\n",
              "       [ 0.17407766],\n",
              "       [ 0.52223297],\n",
              "       [ 0.87038828],\n",
              "       [ 1.21854359],\n",
              "       [ 1.5666989 ]])"
            ]
          },
          "metadata": {
            "tags": []
          },
          "execution_count": 11
        }
      ]
    },
    {
      "cell_type": "code",
      "metadata": {
        "colab_type": "code",
        "id": "cnfdjeAksRy6",
        "outputId": "69a81757-1c8e-41f6-b062-df22eb908a13",
        "colab": {
          "base_uri": "https://localhost:8080/",
          "height": 275
        }
      },
      "source": [
        "scaler_y = StandardScaler() # Vamos guardar as informações de escala para retornar os dados depois.\n",
        "y = scaler_y.fit_transform(y)\n",
        "y"
      ],
      "execution_count": 0,
      "outputs": [
        {
          "output_type": "stream",
          "text": [
            "/usr/local/lib/python3.6/dist-packages/sklearn/utils/validation.py:595: DataConversionWarning: Data with input dtype int64 was converted to float64 by StandardScaler.\n",
            "  warnings.warn(msg, DataConversionWarning)\n",
            "/usr/local/lib/python3.6/dist-packages/sklearn/utils/validation.py:595: DataConversionWarning: Data with input dtype int64 was converted to float64 by StandardScaler.\n",
            "  warnings.warn(msg, DataConversionWarning)\n"
          ],
          "name": "stderr"
        },
        {
          "output_type": "execute_result",
          "data": {
            "text/plain": [
              "array([[-1.75751985],\n",
              "       [-0.98083058],\n",
              "       [-1.24865447],\n",
              "       [-0.31424669],\n",
              "       [ 0.07856167],\n",
              "       [ 0.52493481],\n",
              "       [ 0.31960317],\n",
              "       [ 0.87013004],\n",
              "       [ 1.20342199],\n",
              "       [ 1.3045999 ]])"
            ]
          },
          "metadata": {
            "tags": []
          },
          "execution_count": 12
        }
      ]
    },
    {
      "cell_type": "code",
      "metadata": {
        "colab_type": "code",
        "id": "lROpEDsksRzD",
        "outputId": "0e015957-c4f7-4b40-f352-9e8b93703dbe",
        "colab": {
          "base_uri": "https://localhost:8080/",
          "height": 286
        }
      },
      "source": [
        "%matplotlib inline\n",
        "\n",
        "# A bibliotema matplotlib nos ajuda a vizualizar os dados.\n",
        "# No caso, vamos ver no R2 nossos dados.\n",
        "plt.scatter(X, y)"
      ],
      "execution_count": 0,
      "outputs": [
        {
          "output_type": "execute_result",
          "data": {
            "text/plain": [
              "<matplotlib.collections.PathCollection at 0x7f0e48632b00>"
            ]
          },
          "metadata": {
            "tags": []
          },
          "execution_count": 14
        },
        {
          "output_type": "display_data",
          "data": {
            "image/png": "[encoded data removed]",
            "text/plain": [
              "<Figure size 432x288 with 1 Axes>"
            ]
          },
          "metadata": {
            "tags": []
          }
        }
      ]
    },
    {
      "cell_type": "markdown",
      "metadata": {
        "id": "U6IQO03i48Em",
        "colab_type": "text"
      },
      "source": [
        "### 2) Modelagem do Problema\n",
        "\n",
        "Lembrando que a formula para calcular a regressão é dada como a seguir: y = b0 + b1*X"
      ]
    },
    {
      "cell_type": "markdown",
      "metadata": {
        "id": "35UK9lvW48Eq",
        "colab_type": "text"
      },
      "source": [
        "#### O que é esse b0?\n",
        "\n",
        "A unidade de Bayas, como é chamada, serve para nos dá um ponta-pé inicial, as vezes não vamos ter uma informação precisa sobre os dados, o b0 vai fazer o trabalho de sustentar o resultado para que ele não seja 0.\n",
        "\n",
        "Matematicamente falando, o que estamos fazendo é jogando minha função para um espaço afim, descolado do (0,0). Estamos então encontrando uma transformação no espaço afim."
      ]
    },
    {
      "cell_type": "markdown",
      "metadata": {
        "id": "BJMGOLS_48Et",
        "colab_type": "text"
      },
      "source": [
        "#### Por que geramos valores aleatórios para meus b's?\n",
        "\n",
        "Ao invés de tentar resolver a equação e descobrir a formula exata, vamos optar por tentar encontrar, via tentativa e erro, a matriz de transformação exata, isso é computacionalmente mais estável e mais rápido também.\n",
        "\n",
        "Vamos usar a Descida de Gradiente para nos ajudar no processo de achar o menor erro possível."
      ]
    },
    {
      "cell_type": "code",
      "metadata": {
        "colab_type": "code",
        "id": "8GoWl-T2sRzJ",
        "outputId": "0d7a3bb8-df35-4591-800c-bdf30d7b88f1",
        "colab": {
          "base_uri": "https://localhost:8080/",
          "height": 34
        }
      },
      "source": [
        "# Agora finalmene vamos treinar nosso algoritmo de regressão\n",
        "import tensorflow as tf\n",
        "\n",
        "np.random.seed(0)\n",
        "values = np.random.rand(2) # Gera dois aleatórios para serem o b's\n",
        "print(values)\n",
        "\n",
        "# Inicializa as variaveis da equação\n",
        "b0 = tf.Variable(values[0])\n",
        "b1 = tf.Variable(values[1])\n",
        "\n",
        "# Armazena o erro, usaremos o MeanSquaredError como target para minimizar\n",
        "erro = tf.losses.mean_squared_error(y, (b0 + b1 * X))\n",
        "\n",
        "# Seleciona o otimizador e seta a taxa de aprendizagem\n",
        "''' Descida de gradiente é uma das técinicas mais usadas de otmização, ela é \n",
        "bem robusta e trás varios benefícios, ela tenta encontrar uma seta, que aponta\n",
        "para o valor ótimo, ela me diz não somente para aonde ir, mas qual o grau do \n",
        "meu passo, se deve ser grande ou pequeno.'''\n",
        "opt = tf.train.GradientDescentOptimizer(learning_rate=0.001)\n",
        "\n",
        "#Treina o algoritmo, utilizando o otimizador, ele tenta minimizar o erro\n",
        "train = opt.minimize(erro)"
      ],
      "execution_count": 0,
      "outputs": [
        {
          "output_type": "stream",
          "text": [
            "[0.5488135  0.71518937]\n"
          ],
          "name": "stdout"
        }
      ]
    },
    {
      "cell_type": "code",
      "metadata": {
        "colab_type": "code",
        "id": "4eFSt5P8sRzQ",
        "outputId": "dcc10c56-6ebf-4218-9f05-29cb56996783",
        "colab": {
          "base_uri": "https://localhost:8080/",
          "height": 51
        }
      },
      "source": [
        "#Inicia as variaveis\n",
        "init = tf.global_variables_initializer()\n",
        "\n",
        "# Inicializa a variável epocas\n",
        "''' Todos esses passos acontecem uma única vez, parte da aplicação é selecionar\n",
        "um valor 'epocas' para dizer quantas vezes vamos repetir o processo.\n",
        "Isso não significa que fazer muitas vezes é a solução do problema. Como estamos\n",
        "usando a descida de gradiente para fazer o trabalho de minimização e atualização\n",
        "dos pesos, pode chegar um momento que, ao chegar muito próximo do ótimo, ele dá\n",
        "um salto para bem longe, invertendo o esperado. Saber qual o melhor numero de\n",
        "épocas também faz parte de conhecer o algoritmo e a base de dados.'''\n",
        "epocas = 1000\n",
        "\n",
        "# Lembrando que no TensorFlow nada acontece até abrir a sessão\n",
        "with tf.Session() as s:\n",
        "    s.run(init)\n",
        "    for i in range(epocas):\n",
        "        s.run(train)\n",
        "    b0_f, b1_f = s.run([b0, b1])\n",
        "    \n",
        "print(b0_f)\n",
        "print(b1_f)"
      ],
      "execution_count": 0,
      "outputs": [
        {
          "output_type": "stream",
          "text": [
            "0.0741252198350752\n",
            "0.9366144987169919\n"
          ],
          "name": "stdout"
        }
      ]
    },
    {
      "cell_type": "code",
      "metadata": {
        "colab_type": "code",
        "id": "JA9NxCU0sRzV",
        "outputId": "d8a1a2f1-3da8-4f59-f857-39efc4b4f194",
        "colab": {
          "base_uri": "https://localhost:8080/",
          "height": 187
        }
      },
      "source": [
        "# Vamos setar nosso vetor previsão\n",
        "\n",
        "prev = b0_f + b1_f * X\n",
        "prev"
      ],
      "execution_count": 0,
      "outputs": [
        {
          "output_type": "execute_result",
          "data": {
            "text/plain": [
              "array([[-1.39326769],\n",
              "       [-1.06718038],\n",
              "       [-0.74109306],\n",
              "       [-0.41500575],\n",
              "       [-0.08891844],\n",
              "       [ 0.23716888],\n",
              "       [ 0.56325619],\n",
              "       [ 0.8893435 ],\n",
              "       [ 1.21543082],\n",
              "       [ 1.54151813]])"
            ]
          },
          "metadata": {
            "tags": []
          },
          "execution_count": 17
        }
      ]
    },
    {
      "cell_type": "code",
      "metadata": {
        "colab_type": "code",
        "id": "AZE_DnxOsRza",
        "outputId": "84513f65-cc37-4f22-c9a5-ada50c314c5a",
        "colab": {
          "base_uri": "https://localhost:8080/",
          "height": 286
        }
      },
      "source": [
        "plt.plot(scaler_x.inverse_transform(X), scaler_y.inverse_transform(prev), 'o', color='red')"
      ],
      "execution_count": 0,
      "outputs": [
        {
          "output_type": "execute_result",
          "data": {
            "text/plain": [
              "[<matplotlib.lines.Line2D at 0x7f0e484e8ef0>]"
            ]
          },
          "metadata": {
            "tags": []
          },
          "execution_count": 18
        },
        {
          "output_type": "display_data",
          "data": {
            "image/png": "[encoded data removed]",
            "text/plain": [
              "<Figure size 432x288 with 1 Axes>"
            ]
          },
          "metadata": {
            "tags": []
          }
        }
      ]
    },
    {
      "cell_type": "code",
      "metadata": {
        "colab_type": "code",
        "id": "bLO4B49nsRze",
        "outputId": "f49fe8a7-c30c-49f7-bbda-c8184fdf65f6",
        "colab": {
          "base_uri": "https://localhost:8080/",
          "height": 286
        }
      },
      "source": [
        "plt.plot(X, prev, color='red')\n",
        "plt.plot(X, y, 'o', color='green')"
      ],
      "execution_count": 0,
      "outputs": [
        {
          "output_type": "execute_result",
          "data": {
            "text/plain": [
              "[<matplotlib.lines.Line2D at 0x7f0e48509d68>]"
            ]
          },
          "metadata": {
            "tags": []
          },
          "execution_count": 19
        },
        {
          "output_type": "display_data",
          "data": {
            "image/png": "[encoded data removed]",
            "text/plain": [
              "<Figure size 432x288 with 1 Axes>"
            ]
          },
          "metadata": {
            "tags": []
          }
        }
      ]
    },
    {
      "cell_type": "code",
      "metadata": {
        "colab_type": "code",
        "id": "YNZ6IafJsRzi",
        "outputId": "4651829d-3e4f-4ddc-9fbb-37ac5f7bbea3",
        "colab": {
          "base_uri": "https://localhost:8080/",
          "height": 34
        }
      },
      "source": [
        "# Podemos ainda criar uma função para fazer as previsões\n",
        "\n",
        "def previsao(a, x):\n",
        "    return scaler_y.inverse_transform(a[0] + (a[1] * scaler_x.fit_transform([[x]])))\n",
        "\n",
        "previsao((b0_f, b1_f), 40)"
      ],
      "execution_count": 0,
      "outputs": [
        {
          "output_type": "execute_result",
          "data": {
            "text/plain": [
              "array([[1486.50916664]])"
            ]
          },
          "metadata": {
            "tags": []
          },
          "execution_count": 20
        }
      ]
    },
    {
      "cell_type": "code",
      "metadata": {
        "colab_type": "code",
        "id": "NJ6cUa5KsRzm",
        "outputId": "98c9a990-8be0-4adc-dcef-0e215fbc3a9e",
        "colab": {
          "base_uri": "https://localhost:8080/",
          "height": 51
        }
      },
      "source": [
        "# Vamos comparar os resultados obtidos com os reais\n",
        "\n",
        "y1 = scaler_y.inverse_transform(y)\n",
        "prev1 = scaler_y.inverse_transform(prev)\n",
        "\n",
        "from sklearn.metrics import mean_absolute_error, mean_squared_error\n",
        "print(mean_absolute_error(y1, prev1))\n",
        "print(mean_squared_error(y1, prev1))"
      ],
      "execution_count": 0,
      "outputs": [
        {
          "output_type": "stream",
          "text": [
            "68.08077601206267\n",
            "7168.148446336729\n"
          ],
          "name": "stdout"
        }
      ]
    },
    {
      "cell_type": "code",
      "metadata": {
        "colab_type": "code",
        "id": "llG4Qf2ysRzp",
        "colab": {}
      },
      "source": [
        ""
      ],
      "execution_count": 0,
      "outputs": []
    }
  ]
}